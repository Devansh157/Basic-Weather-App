{
 "cells": [
  {
   "cell_type": "code",
   "execution_count": 4,
   "id": "e90adfb8-2705-4172-aced-68b1a910ce98",
   "metadata": {},
   "outputs": [],
   "source": [
    "import requests\n",
    "import ipywidgets as widgets\n",
    "from IPython.display import display,HTML\n",
    "api_key = \"a\"\n",
    "def get_weather(city):\n",
    "    url = f\"https://api.openweathermap.org/data/2.5/weather?q={city}&appid={api_key}&units=metric\"\n",
    "    try:\n",
    "        response = requests.get(url,timeout=5)\n",
    "        if response.status_code == 200:\n",
    "            data = response.json()\n",
    "            temp = data['main']['temp']\n",
    "            desc = data['weather'][0]['description'].capitalize()\n",
    "            icon = data['weather'][0]['icon']\n",
    "            icon_url = f\"http://openweathermap.org/img/wn/{icon}@2x.png\"\n",
    "            return temp,desc,icon_url\n",
    "        elif response.status_code == 404:\n",
    "            return None,f\"City not found.\",None\n",
    "        else:\n",
    "            return None,f\"Error: {response.status_code}\",None\n",
    "    except requests.exceptions.RequestException as e:\n",
    "        return None,f\"Network error: {e}\",None"
   ]
  },
  {
   "cell_type": "code",
   "execution_count": 6,
   "id": "06e2f32b-00e4-4017-b11b-39aa431c7ffa",
   "metadata": {},
   "outputs": [],
   "source": [
    "city_input = widgets.Text(placeholder=\"Type place name\", description='Place:')\n",
    "button = widgets.Button(description=\"Get Weather\")\n",
    "output = widgets.Output()\n",
    "def on_button_clicked(b):\n",
    "    with output:\n",
    "        output.clear_output()\n",
    "        temp,desc,icon_url = get_weather(city_input.value)\n",
    "        if temp is not None:\n",
    "            display(HTML(f\"\"\"<div style=\"font-family:Arial; text-align:center;border:2px solid #4CAF50; padding:15px;border-radius:10px;width:300px;margin:auto;\">\n",
    "            <h2>{city_input.value}</h2>\n",
    "            <img src = {icon_url} alt = \"Weather icon\"><br>\n",
    "            <h3>{temp} C </h3>\n",
    "            <p style = \"font-size:16px;\">{desc}</p>\n",
    "            </div>\n",
    "            \"\"\"))\n",
    "        else:\n",
    "            print(desc)"
   ]
  },
  {
   "cell_type": "code",
   "execution_count": 7,
   "id": "7aac3ae2-0027-4e61-8db7-dd3196dfe661",
   "metadata": {},
   "outputs": [
    {
     "data": {
      "application/vnd.jupyter.widget-view+json": {
       "model_id": "85169d373739473faacc0ea103dfea2d",
       "version_major": 2,
       "version_minor": 0
      },
      "text/plain": [
       "Text(value='', description='Place:', placeholder='Type place name')"
      ]
     },
     "metadata": {},
     "output_type": "display_data"
    },
    {
     "data": {
      "application/vnd.jupyter.widget-view+json": {
       "model_id": "50f9a106962649d9ac316e50891891d9",
       "version_major": 2,
       "version_minor": 0
      },
      "text/plain": [
       "Button(description='Get Weather', style=ButtonStyle())"
      ]
     },
     "metadata": {},
     "output_type": "display_data"
    },
    {
     "data": {
      "application/vnd.jupyter.widget-view+json": {
       "model_id": "1ca0e02737a546338aa1294da9f7ead0",
       "version_major": 2,
       "version_minor": 0
      },
      "text/plain": [
       "Output()"
      ]
     },
     "metadata": {},
     "output_type": "display_data"
    }
   ],
   "source": [
    "button.on_click(on_button_clicked)\n",
    "display(city_input,button,output)"
   ]
  },
  {
   "cell_type": "code",
   "execution_count": null,
   "id": "dcf01202-b7cc-4c73-9b50-2ae39a73e671",
   "metadata": {},
   "outputs": [],
   "source": []
  }
 ],
 "metadata": {
  "kernelspec": {
   "display_name": "Python 3 (ipykernel)",
   "language": "python",
   "name": "python3"
  },
  "language_info": {
   "codemirror_mode": {
    "name": "ipython",
    "version": 3
   },
   "file_extension": ".py",
   "mimetype": "text/x-python",
   "name": "python",
   "nbconvert_exporter": "python",
   "pygments_lexer": "ipython3",
   "version": "3.13.7"
  }
 },
 "nbformat": 4,
 "nbformat_minor": 5
}
