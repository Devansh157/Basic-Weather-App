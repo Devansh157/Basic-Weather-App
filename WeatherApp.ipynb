{
 "cells": [
  {
   "cell_type": "code",
   "execution_count": 2,
   "id": "",
   "metadata": {},
   "outputs": [],
   "source": [
    "import requests\n",
    "import ipywidgets as widgets\n",
    "from IPython.display import display,HTML\n",
    "api_key = \"27b8202e522667cea8afac48f640d808\"\n",
    "def get_weather(city):\n",
    "    url = f\"https://api.openweathermap.org/data/2.5/weather?q={city}&appid={api_key}&units=metric\"\n",
    "    try:\n",
    "        response = requests.get(url,timeout=5)\n",
    "        if response.status_code == 200:\n",
    "            data = response.json()\n",
    "            temp = data['main']['temp']\n",
    "            desc = data['weather'][0]['description'].capitalize()\n",
    "            icon = data['weather'][0]['icon']\n",
    "            icon_url = f\"http://openweathermap.org/img/wn/{icon}@2x.png\"\n",
    "            return temp,desc,icon_url\n",
    "        elif response.status_code == 404:\n",
    "            return None,f\"City not found.\",None\n",
    "        else:\n",
    "            return None,f\"Error: {response.status_code}\",None\n",
    "    except requests.exceptions.RequestException as e:\n",
    "        return None,f\"Network error: {e}\",None"
   ]
  },
  {
   "cell_type": "code",
   "execution_count": 6,
   "id": "06e2f32b-00e4-4017-b11b-39aa431c7ffa",
   "metadata": {},
   "outputs": [
    {
     "data": {
      "application/vnd.jupyter.widget-view+json": {
       "model_id": "ad458f955b5d4541b7b1df04cf59436e",
       "version_major": 2,
       "version_minor": 0
      },
      "text/plain": [
       "Text(value='', description='City:', placeholder='Type city name')"
      ]
     },
     "metadata": {},
     "output_type": "display_data"
    },
    {
     "data": {
      "application/vnd.jupyter.widget-view+json": {
       "model_id": "16256ab10aea44b39ca0fbfc7770e5ff",
       "version_major": 2,
       "version_minor": 0
      },
      "text/plain": [
       "Button(description='Get Weather', style=ButtonStyle())"
      ]
     },
     "metadata": {},
     "output_type": "display_data"
    },
    {
     "data": {
      "application/vnd.jupyter.widget-view+json": {
       "model_id": "02e59e7d2fe0481c80d78246d3a6babe",
       "version_major": 2,
       "version_minor": 0
      },
      "text/plain": [
       "Output()"
      ]
     },
     "metadata": {},
     "output_type": "display_data"
    }
   ],
   "source": [
    "city_input = widgets.Text(placeholder=\"Type city name\", description='City:')\n",
    "button = widgets.Button(description=\"Get Weather\")\n",
    "output = widgets.Output()\n",
    "def on_button_clicked(b):\n",
    "    with output:\n",
    "        output.clear_output()\n",
    "        temp,desc,icon_url = get_weather(city_input.value)\n",
    "        if temp is not None:\n",
    "            display(HTML(f\"\"\"<div style=\"font-family:Arial; text-align:center;border:2px solid #4CAF50; padding:15px;border-radius:10px;width:300px;margin:auto;\">\n",
    "            <h2>{city_input.value}</h2>\n",
    "            <img src = {icon_url} alt = \"Weather icon\"><br>\n",
    "            <h3>{temp} C </h3>\n",
    "            <p style = \"font-size:16px;\">{desc}</p>\n",
    "            </div>\n",
    "            \"\"\"))\n",
    "        else:\n",
    "            print(desc)\n",
    "button.on_click(on_button_clicked)\n",
    "display(city_input,button,output)"
   ]
  },
  {
   "cell_type": "code",
   "execution_count": null,
   "id": "367799dd-d121-4a16-97f4-dd7cd4ed2026",
   "metadata": {},
   "outputs": [],
   "source": []
  }
 ],
 "metadata": {
  "kernelspec": {
   "display_name": "Python 3 (ipykernel)",
   "language": "python",
   "name": "python3"
  },
  "language_info": {
   "codemirror_mode": {
    "name": "ipython",
    "version": 3
   },
   "file_extension": ".py",
   "mimetype": "text/x-python",
   "name": "python",
   "nbconvert_exporter": "python",
   "pygments_lexer": "ipython3",
   "version": "3.13.7"
  }
 },
 "nbformat": 4,
 "nbformat_minor": 5
}
